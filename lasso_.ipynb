{
 "cells": [
  {
   "cell_type": "code",
   "execution_count": 29,
   "metadata": {
    "ExecuteTime": {
     "end_time": "2021-06-07T02:32:48.540463Z",
     "start_time": "2021-06-07T02:32:48.533500Z"
    }
   },
   "outputs": [],
   "source": [
    "import pandas as pd \n",
    "from sklearn.linear_model import Lasso\n",
    "import numpy as np"
   ]
  },
  {
   "cell_type": "code",
   "execution_count": 30,
   "metadata": {
    "ExecuteTime": {
     "end_time": "2021-06-07T02:32:48.742629Z",
     "start_time": "2021-06-07T02:32:48.544452Z"
    }
   },
   "outputs": [
    {
     "name": "stderr",
     "output_type": "stream",
     "text": [
      "d:\\python3.8\\lib\\site-packages\\sklearn\\linear_model\\_coordinate_descent.py:530: ConvergenceWarning: Objective did not converge. You might want to increase the number of iterations. Duality gap: 34165.31873662031, tolerance: 705.262984228\n",
      "  model = cd_fast.enet_coordinate_descent(\n"
     ]
    },
    {
     "data": {
      "text/plain": [
       "Lasso(alpha=1000)"
      ]
     },
     "execution_count": 30,
     "metadata": {},
     "output_type": "execute_result"
    }
   ],
   "source": [
    "data = pd.read_csv('data.csv')\n",
    "clf = Lasso(alpha=1000)\n",
    "clf.fit(data.iloc[:,0:13],data['y'])"
   ]
  },
  {
   "cell_type": "code",
   "execution_count": 31,
   "metadata": {
    "ExecuteTime": {
     "end_time": "2021-06-07T02:32:48.867305Z",
     "start_time": "2021-06-07T02:32:48.748614Z"
    }
   },
   "outputs": [
    {
     "data": {
      "text/plain": [
       "array([-1.8000e-04, -0.0000e+00,  1.2414e-01, -1.0310e-02,  6.5400e-02,\n",
       "        1.2000e-04,  3.1741e-01,  3.4900e-02, -0.0000e+00,  0.0000e+00,\n",
       "        0.0000e+00,  0.0000e+00, -4.0300e-02])"
      ]
     },
     "execution_count": 31,
     "metadata": {},
     "output_type": "execute_result"
    }
   ],
   "source": [
    "\n",
    "np.round(clf.coef_,5)"
   ]
  },
  {
   "cell_type": "code",
   "execution_count": 32,
   "metadata": {
    "ExecuteTime": {
     "end_time": "2021-06-07T02:32:49.005451Z",
     "start_time": "2021-06-07T02:32:48.873287Z"
    }
   },
   "outputs": [
    {
     "data": {
      "text/plain": [
       "-422.3328154302176"
      ]
     },
     "execution_count": 32,
     "metadata": {},
     "output_type": "execute_result"
    }
   ],
   "source": [
    "clf.intercept_"
   ]
  },
  {
   "cell_type": "code",
   "execution_count": 33,
   "metadata": {
    "ExecuteTime": {
     "end_time": "2021-06-07T02:32:49.144985Z",
     "start_time": "2021-06-07T02:32:49.009440Z"
    }
   },
   "outputs": [
    {
     "data": {
      "text/plain": [
       "array([ True, False,  True,  True,  True,  True,  True,  True, False,\n",
       "       False, False, False,  True])"
      ]
     },
     "execution_count": 33,
     "metadata": {},
     "output_type": "execute_result"
    }
   ],
   "source": [
    "mask = clf.coef_ != 0\n",
    "mask"
   ]
  },
  {
   "cell_type": "code",
   "execution_count": 36,
   "metadata": {
    "ExecuteTime": {
     "end_time": "2021-06-07T02:33:05.220518Z",
     "start_time": "2021-06-07T02:33:05.201569Z"
    }
   },
   "outputs": [],
   "source": [
    "label = data['y']\n",
    "data.drop('y',axis=1,inplace=True)"
   ]
  },
  {
   "cell_type": "code",
   "execution_count": 43,
   "metadata": {
    "ExecuteTime": {
     "end_time": "2021-06-07T03:24:53.501356Z",
     "start_time": "2021-06-07T03:24:53.482410Z"
    }
   },
   "outputs": [],
   "source": [
    "lasso_data = data.loc[:,mask]\n",
    "# lasso_data.to_csv('lasso_data.')\n",
    "lasso_data.to_csv('lasso_data1.csv',index=False)"
   ]
  },
  {
   "cell_type": "code",
   "execution_count": 39,
   "metadata": {
    "ExecuteTime": {
     "end_time": "2021-06-07T02:34:11.123578Z",
     "start_time": "2021-06-07T02:34:11.100640Z"
    }
   },
   "outputs": [],
   "source": [
    "# lasso_data = pd.concat([lasso_data,label],axis=1)"
   ]
  },
  {
   "cell_type": "code",
   "execution_count": null,
   "metadata": {
    "ExecuteTime": {
     "end_time": "2021-06-07T03:23:50.816139Z",
     "start_time": "2021-06-07T03:23:50.527452Z"
    }
   },
   "outputs": [],
   "source": []
  },
  {
   "cell_type": "code",
   "execution_count": null,
   "metadata": {},
   "outputs": [],
   "source": []
  }
 ],
 "metadata": {
  "kernelspec": {
   "display_name": "Python 3",
   "language": "python",
   "name": "python3"
  },
  "language_info": {
   "codemirror_mode": {
    "name": "ipython",
    "version": 3
   },
   "file_extension": ".py",
   "mimetype": "text/x-python",
   "name": "python",
   "nbconvert_exporter": "python",
   "pygments_lexer": "ipython3",
   "version": "3.8.5"
  }
 },
 "nbformat": 4,
 "nbformat_minor": 4
}
