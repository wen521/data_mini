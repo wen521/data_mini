{
 "cells": [
  {
   "cell_type": "code",
   "execution_count": 29,
   "metadata": {
    "ExecuteTime": {
     "end_time": "2021-06-07T02:32:48.540463Z",
     "start_time": "2021-06-07T02:32:48.533500Z"
    }
   },
   "outputs": [],
   "source": [
    "import pandas as pd \n",
    "from sklearn.linear_model import Lasso\n",
    "import numpy as np"
   ]
  },
  {
   "cell_type": "code",
   "execution_count": 30,
   "metadata": {
    "ExecuteTime": {
     "end_time": "2021-06-07T02:32:48.742629Z",
     "start_time": "2021-06-07T02:32:48.544452Z"
    }
   },
   "outputs": [
    {
     "name": "stderr",
     "output_type": "stream",
     "text": [
      "d:\\python3.8\\lib\\site-packages\\sklearn\\linear_model\\_coordinate_descent.py:530: ConvergenceWarning: Objective did not converge. You might want to increase the number of iterations. Duality gap: 34165.31873662031, tolerance: 705.262984228\n",
      "  model = cd_fast.enet_coordinate_descent(\n"
     ]
    },
    {
     "data": {
      "text/plain": [
       "Lasso(alpha=1000)"
      ]
     },
     "execution_count": 30,
     "metadata": {},
     "output_type": "execute_result"
    }
   ],
   "source": [
    "data = pd.read_csv('data.csv')\n",
    "clf = Lasso(alpha=1000)\n",
    "clf.fit(data.iloc[:,0:13],data['y'])"
   ]
  },
  {
   "cell_type": "code",
   "execution_count": 31,
   "metadata": {
    "ExecuteTime": {
     "end_time": "2021-06-07T02:32:48.867305Z",
     "start_time": "2021-06-07T02:32:48.748614Z"
    }
   },
   "outputs": [
    {
     "data": {
      "text/plain": [
       "array([-1.8000e-04, -0.0000e+00,  1.2414e-01, -1.0310e-02,  6.5400e-02,\n",
       "        1.2000e-04,  3.1741e-01,  3.4900e-02, -0.0000e+00,  0.0000e+00,\n",
       "        0.0000e+00,  0.0000e+00, -4.0300e-02])"
      ]
     },
     "execution_count": 31,
     "metadata": {},
     "output_type": "execute_result"
    }
   ],
   "source": [
    "\n",
    "np.round(clf.coef_,5)"
   ]
  },
  {
   "cell_type": "code",
   "execution_count": 32,
   "metadata": {
    "ExecuteTime": {
     "end_time": "2021-06-07T02:32:49.005451Z",
     "start_time": "2021-06-07T02:32:48.873287Z"
    }
   },
   "outputs": [
    {
     "data": {
      "text/plain": [
       "-422.3328154302176"
      ]
     },
     "execution_count": 32,
     "metadata": {},
     "output_type": "execute_result"
    }
   ],
   "source": [
    "clf.intercept_"
   ]
  },
  {
   "cell_type": "code",
   "execution_count": 33,
   "metadata": {
    "ExecuteTime": {
     "end_time": "2021-06-07T02:32:49.144985Z",
     "start_time": "2021-06-07T02:32:49.009440Z"
    }
   },
   "outputs": [
    {
     "data": {
      "text/plain": [
       "array([ True, False,  True,  True,  True,  True,  True,  True, False,\n",
       "       False, False, False,  True])"
      ]
     },
     "execution_count": 33,
     "metadata": {},
     "output_type": "execute_result"
    }
   ],
   "source": [
    "mask = clf.coef_ != 0\n",
    "mask"
   ]
  },
  {
   "cell_type": "code",
   "execution_count": 36,
   "metadata": {
    "ExecuteTime": {
     "end_time": "2021-06-07T02:33:05.220518Z",
     "start_time": "2021-06-07T02:33:05.201569Z"
    }
   },
   "outputs": [],
   "source": [
    "label = data['y']\n",
    "data.drop('y',axis=1,inplace=True)"
   ]
  },
  {
   "cell_type": "code",
   "execution_count": 37,
   "metadata": {
    "ExecuteTime": {
     "end_time": "2021-06-07T02:33:07.079397Z",
     "start_time": "2021-06-07T02:33:07.030943Z"
    }
   },
   "outputs": [
    {
     "data": {
      "text/html": [
       "<div>\n",
       "<style scoped>\n",
       "    .dataframe tbody tr th:only-of-type {\n",
       "        vertical-align: middle;\n",
       "    }\n",
       "\n",
       "    .dataframe tbody tr th {\n",
       "        vertical-align: top;\n",
       "    }\n",
       "\n",
       "    .dataframe thead th {\n",
       "        text-align: right;\n",
       "    }\n",
       "</style>\n",
       "<table border=\"1\" class=\"dataframe\">\n",
       "  <thead>\n",
       "    <tr style=\"text-align: right;\">\n",
       "      <th></th>\n",
       "      <th>x1</th>\n",
       "      <th>x3</th>\n",
       "      <th>x4</th>\n",
       "      <th>x5</th>\n",
       "      <th>x6</th>\n",
       "      <th>x7</th>\n",
       "      <th>x8</th>\n",
       "      <th>x13</th>\n",
       "    </tr>\n",
       "  </thead>\n",
       "  <tbody>\n",
       "    <tr>\n",
       "      <th>0</th>\n",
       "      <td>3831732</td>\n",
       "      <td>448.19</td>\n",
       "      <td>7571.00</td>\n",
       "      <td>6212.70</td>\n",
       "      <td>6370241</td>\n",
       "      <td>525.71</td>\n",
       "      <td>985.31</td>\n",
       "      <td>5321</td>\n",
       "    </tr>\n",
       "    <tr>\n",
       "      <th>1</th>\n",
       "      <td>3913824</td>\n",
       "      <td>549.97</td>\n",
       "      <td>9038.16</td>\n",
       "      <td>7601.73</td>\n",
       "      <td>6467115</td>\n",
       "      <td>618.25</td>\n",
       "      <td>1259.20</td>\n",
       "      <td>6529</td>\n",
       "    </tr>\n",
       "    <tr>\n",
       "      <th>2</th>\n",
       "      <td>3928907</td>\n",
       "      <td>686.44</td>\n",
       "      <td>9905.31</td>\n",
       "      <td>8092.82</td>\n",
       "      <td>6560508</td>\n",
       "      <td>638.94</td>\n",
       "      <td>1468.06</td>\n",
       "      <td>7008</td>\n",
       "    </tr>\n",
       "    <tr>\n",
       "      <th>3</th>\n",
       "      <td>4282130</td>\n",
       "      <td>802.59</td>\n",
       "      <td>10444.60</td>\n",
       "      <td>8767.98</td>\n",
       "      <td>6664862</td>\n",
       "      <td>656.58</td>\n",
       "      <td>1678.12</td>\n",
       "      <td>7694</td>\n",
       "    </tr>\n",
       "    <tr>\n",
       "      <th>4</th>\n",
       "      <td>4453911</td>\n",
       "      <td>904.57</td>\n",
       "      <td>11255.70</td>\n",
       "      <td>9422.33</td>\n",
       "      <td>6741400</td>\n",
       "      <td>758.83</td>\n",
       "      <td>1893.52</td>\n",
       "      <td>8027</td>\n",
       "    </tr>\n",
       "    <tr>\n",
       "      <th>5</th>\n",
       "      <td>4548852</td>\n",
       "      <td>1000.69</td>\n",
       "      <td>12018.52</td>\n",
       "      <td>9751.44</td>\n",
       "      <td>6850024</td>\n",
       "      <td>878.26</td>\n",
       "      <td>2139.18</td>\n",
       "      <td>8549</td>\n",
       "    </tr>\n",
       "    <tr>\n",
       "      <th>6</th>\n",
       "      <td>4962579</td>\n",
       "      <td>1121.13</td>\n",
       "      <td>13966.53</td>\n",
       "      <td>11349.47</td>\n",
       "      <td>7006896</td>\n",
       "      <td>923.67</td>\n",
       "      <td>2492.74</td>\n",
       "      <td>9566</td>\n",
       "    </tr>\n",
       "    <tr>\n",
       "      <th>7</th>\n",
       "      <td>5029338</td>\n",
       "      <td>1248.29</td>\n",
       "      <td>14694.00</td>\n",
       "      <td>11467.35</td>\n",
       "      <td>7125979</td>\n",
       "      <td>978.21</td>\n",
       "      <td>2841.65</td>\n",
       "      <td>10473</td>\n",
       "    </tr>\n",
       "    <tr>\n",
       "      <th>8</th>\n",
       "      <td>5070216</td>\n",
       "      <td>1370.68</td>\n",
       "      <td>13380.47</td>\n",
       "      <td>10671.78</td>\n",
       "      <td>7206229</td>\n",
       "      <td>1009.24</td>\n",
       "      <td>3203.96</td>\n",
       "      <td>11469</td>\n",
       "    </tr>\n",
       "    <tr>\n",
       "      <th>9</th>\n",
       "      <td>5210706</td>\n",
       "      <td>1494.27</td>\n",
       "      <td>15002.59</td>\n",
       "      <td>11570.58</td>\n",
       "      <td>7251888</td>\n",
       "      <td>1175.17</td>\n",
       "      <td>3758.62</td>\n",
       "      <td>12360</td>\n",
       "    </tr>\n",
       "    <tr>\n",
       "      <th>10</th>\n",
       "      <td>5407087</td>\n",
       "      <td>1677.77</td>\n",
       "      <td>16884.16</td>\n",
       "      <td>13120.83</td>\n",
       "      <td>7376720</td>\n",
       "      <td>1348.93</td>\n",
       "      <td>4450.55</td>\n",
       "      <td>14174</td>\n",
       "    </tr>\n",
       "    <tr>\n",
       "      <th>11</th>\n",
       "      <td>5744550</td>\n",
       "      <td>1905.84</td>\n",
       "      <td>18287.24</td>\n",
       "      <td>14468.24</td>\n",
       "      <td>7505322</td>\n",
       "      <td>1519.16</td>\n",
       "      <td>5154.23</td>\n",
       "      <td>16394</td>\n",
       "    </tr>\n",
       "    <tr>\n",
       "      <th>12</th>\n",
       "      <td>5994973</td>\n",
       "      <td>2199.14</td>\n",
       "      <td>19850.66</td>\n",
       "      <td>15444.93</td>\n",
       "      <td>7607220</td>\n",
       "      <td>1696.38</td>\n",
       "      <td>6081.86</td>\n",
       "      <td>17881</td>\n",
       "    </tr>\n",
       "    <tr>\n",
       "      <th>13</th>\n",
       "      <td>6236312</td>\n",
       "      <td>2624.24</td>\n",
       "      <td>22469.22</td>\n",
       "      <td>18951.32</td>\n",
       "      <td>7734787</td>\n",
       "      <td>1863.34</td>\n",
       "      <td>7140.32</td>\n",
       "      <td>20058</td>\n",
       "    </tr>\n",
       "    <tr>\n",
       "      <th>14</th>\n",
       "      <td>6529045</td>\n",
       "      <td>3187.39</td>\n",
       "      <td>25316.72</td>\n",
       "      <td>20835.95</td>\n",
       "      <td>7841695</td>\n",
       "      <td>2105.54</td>\n",
       "      <td>8287.38</td>\n",
       "      <td>22114</td>\n",
       "    </tr>\n",
       "    <tr>\n",
       "      <th>15</th>\n",
       "      <td>6791495</td>\n",
       "      <td>3615.77</td>\n",
       "      <td>27609.59</td>\n",
       "      <td>22820.89</td>\n",
       "      <td>7946154</td>\n",
       "      <td>2659.85</td>\n",
       "      <td>9138.21</td>\n",
       "      <td>24190</td>\n",
       "    </tr>\n",
       "    <tr>\n",
       "      <th>16</th>\n",
       "      <td>7110695</td>\n",
       "      <td>4476.38</td>\n",
       "      <td>30658.49</td>\n",
       "      <td>25011.61</td>\n",
       "      <td>8061370</td>\n",
       "      <td>3263.57</td>\n",
       "      <td>10748.28</td>\n",
       "      <td>29549</td>\n",
       "    </tr>\n",
       "    <tr>\n",
       "      <th>17</th>\n",
       "      <td>7431755</td>\n",
       "      <td>5243.03</td>\n",
       "      <td>34438.08</td>\n",
       "      <td>28209.74</td>\n",
       "      <td>8145797</td>\n",
       "      <td>3412.21</td>\n",
       "      <td>12423.44</td>\n",
       "      <td>34214</td>\n",
       "    </tr>\n",
       "    <tr>\n",
       "      <th>18</th>\n",
       "      <td>7512997</td>\n",
       "      <td>5977.27</td>\n",
       "      <td>38053.52</td>\n",
       "      <td>30490.44</td>\n",
       "      <td>8222969</td>\n",
       "      <td>3758.39</td>\n",
       "      <td>13551.21</td>\n",
       "      <td>37934</td>\n",
       "    </tr>\n",
       "    <tr>\n",
       "      <th>19</th>\n",
       "      <td>7599295</td>\n",
       "      <td>6882.85</td>\n",
       "      <td>42049.14</td>\n",
       "      <td>33156.83</td>\n",
       "      <td>8323096</td>\n",
       "      <td>4454.55</td>\n",
       "      <td>15420.14</td>\n",
       "      <td>41972</td>\n",
       "    </tr>\n",
       "  </tbody>\n",
       "</table>\n",
       "</div>"
      ],
      "text/plain": [
       "         x1       x3        x4        x5       x6       x7        x8    x13\n",
       "0   3831732   448.19   7571.00   6212.70  6370241   525.71    985.31   5321\n",
       "1   3913824   549.97   9038.16   7601.73  6467115   618.25   1259.20   6529\n",
       "2   3928907   686.44   9905.31   8092.82  6560508   638.94   1468.06   7008\n",
       "3   4282130   802.59  10444.60   8767.98  6664862   656.58   1678.12   7694\n",
       "4   4453911   904.57  11255.70   9422.33  6741400   758.83   1893.52   8027\n",
       "5   4548852  1000.69  12018.52   9751.44  6850024   878.26   2139.18   8549\n",
       "6   4962579  1121.13  13966.53  11349.47  7006896   923.67   2492.74   9566\n",
       "7   5029338  1248.29  14694.00  11467.35  7125979   978.21   2841.65  10473\n",
       "8   5070216  1370.68  13380.47  10671.78  7206229  1009.24   3203.96  11469\n",
       "9   5210706  1494.27  15002.59  11570.58  7251888  1175.17   3758.62  12360\n",
       "10  5407087  1677.77  16884.16  13120.83  7376720  1348.93   4450.55  14174\n",
       "11  5744550  1905.84  18287.24  14468.24  7505322  1519.16   5154.23  16394\n",
       "12  5994973  2199.14  19850.66  15444.93  7607220  1696.38   6081.86  17881\n",
       "13  6236312  2624.24  22469.22  18951.32  7734787  1863.34   7140.32  20058\n",
       "14  6529045  3187.39  25316.72  20835.95  7841695  2105.54   8287.38  22114\n",
       "15  6791495  3615.77  27609.59  22820.89  7946154  2659.85   9138.21  24190\n",
       "16  7110695  4476.38  30658.49  25011.61  8061370  3263.57  10748.28  29549\n",
       "17  7431755  5243.03  34438.08  28209.74  8145797  3412.21  12423.44  34214\n",
       "18  7512997  5977.27  38053.52  30490.44  8222969  3758.39  13551.21  37934\n",
       "19  7599295  6882.85  42049.14  33156.83  8323096  4454.55  15420.14  41972"
      ]
     },
     "execution_count": 37,
     "metadata": {},
     "output_type": "execute_result"
    }
   ],
   "source": [
    "lasso_data = data.loc[:,mask]\n",
    "lasso_data\n"
   ]
  },
  {
   "cell_type": "code",
   "execution_count": 39,
   "metadata": {
    "ExecuteTime": {
     "end_time": "2021-06-07T02:34:11.123578Z",
     "start_time": "2021-06-07T02:34:11.100640Z"
    }
   },
   "outputs": [],
   "source": [
    "lasso_data = pd.concat([lasso_data,label],axis=1)"
   ]
  },
  {
   "cell_type": "code",
   "execution_count": 41,
   "metadata": {
    "ExecuteTime": {
     "end_time": "2021-06-07T02:34:39.941732Z",
     "start_time": "2021-06-07T02:34:39.809929Z"
    }
   },
   "outputs": [],
   "source": [
    "lasso_data.to_csv('lasso_data.csv',index=False)"
   ]
  },
  {
   "cell_type": "code",
   "execution_count": null,
   "metadata": {},
   "outputs": [],
   "source": []
  }
 ],
 "metadata": {
  "kernelspec": {
   "display_name": "Python 3",
   "language": "python",
   "name": "python3"
  },
  "language_info": {
   "codemirror_mode": {
    "name": "ipython",
    "version": 3
   },
   "file_extension": ".py",
   "mimetype": "text/x-python",
   "name": "python",
   "nbconvert_exporter": "python",
   "pygments_lexer": "ipython3",
   "version": "3.8.5"
  }
 },
 "nbformat": 4,
 "nbformat_minor": 4
}
